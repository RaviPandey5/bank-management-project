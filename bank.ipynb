{
 "cells": [
  {
   "cell_type": "code",
   "execution_count": 1,
   "id": "d5ee4f59",
   "metadata": {},
   "outputs": [],
   "source": [
    "cust_data = {}\n",
    "\n",
    "new_user_attributes = []"
   ]
  },
  {
   "cell_type": "code",
   "execution_count": 2,
   "id": "df206f57",
   "metadata": {},
   "outputs": [],
   "source": [
    "import random\n",
    "\n",
    "accno = random.randint(10000, 99999)\n",
    "\n"
   ]
  },
  {
   "cell_type": "code",
   "execution_count": 30,
   "id": "e3ffd28c",
   "metadata": {},
   "outputs": [
    {
     "name": "stdout",
     "output_type": "stream",
     "text": [
      "Enter Your Name:ravi\n",
      "Enter Your Address:kota\n",
      "Enter Your Pnone No:6514524521\n",
      "Enter Your govid:5414\n",
      "Enter Your Amount:5000\n"
     ]
    },
    {
     "data": {
      "text/plain": [
       "{17078: {'name': 'ravi',\n",
       "  'address': 'kota',\n",
       "  'phone num': 6514524521,\n",
       "  'govt id': 5414,\n",
       "  'amount': 5000}}"
      ]
     },
     "execution_count": 30,
     "metadata": {},
     "output_type": "execute_result"
    }
   ],
   "source": [
    "name = (input(\"Enter Your Name:\"))\n",
    "addr = (input(\"Enter Your Address:\"))\n",
    "phno = int(input(\"Enter Your Pnone No:\"))\n",
    "govid  = int(input(\"Enter Your govid:\"))\n",
    "amt = int(input(\"Enter Your Amount:\"))\n",
    "\n",
    "new_user_inputs=[]\n",
    "\n",
    "new_user = {accno:{\"name\":name,\"address\":addr,\"phone num\":phno,\"govt id\":govid,\"amount\":amt}}\n",
    "cust_data.update(new_user)\n",
    "\n",
    "print(\"your details are added successfully.\\nYour account number is\",accno,\".\\nPlease don't lose it.\")\n"
   ]
  },
  {
   "cell_type": "code",
   "execution_count": null,
   "id": "8c22700a",
   "metadata": {},
   "outputs": [],
   "source": [
    "cust_data()"
   ]
  },
  {
   "cell_type": "code",
   "execution_count": null,
   "id": "05963175",
   "metadata": {},
   "outputs": [
    {
     "name": "stdout",
     "output_type": "stream",
     "text": [
      "Welcome to the Chit Fund Company! \n",
      " \n",
      "Enter 1 if you are a new customer. \n",
      "Enter 2 if you are an existing customer. \n",
      "Enter 3 to terminate the application\n",
      "2\n",
      "Please enter your account number:17078\n"
     ]
    }
   ],
   "source": [
    "\n",
    "print(\"Welcome to the Chit Fund Company! \\n \\nEnter 1 if you are a new customer. \\nEnter 2 if you are an existing customer. \\nEnter 3 to terminate the application\")\n",
    "while True:\n",
    "\n",
    "    user_choice = input()\n",
    "\n",
    "    while user_choice not in ['1', '2', '3']:\n",
    "        print(\"Invalid input!\")\n",
    "        print(\"Enter 1 if you are a new customer. \\nEnter 2 if you are an existing customer. \\nEnter 3 to terminate the application\")\n",
    "        user_choice = input()\n",
    "\n",
    "# If the user enters 1, then call the 'new_user() function (to create a new account for the user and get their personal detail\n",
    "\n",
    "# Write your code here\n",
    "\n",
    "    if user_choice == \"1\": \n",
    "        new_user()\n",
    "        print(\"Thank you, for banking with us!\")\n",
    "\n",
    "#Else If the user enters 2, then call the 'existing_user #Write your code here\n",
    "\n",
    "    elif (user_choice == \"2\"):\n",
    "        existing_user() \n",
    "        print(\"Thank you, for banking with us!\")\n",
    "    \n",
    "    elif (user_choice == \"3\"):\n",
    "        print(\"Thank you, for banking with us!\")\n",
    "        break\n",
    "\n"
   ]
  },
  {
   "cell_type": "code",
   "execution_count": 30,
   "id": "5a4a3806",
   "metadata": {},
   "outputs": [],
   "source": [
    "def existing_user():\n",
    "\n",
    "# Step 1: Ask the user to enter the existing account number and store it as an integer.\n",
    "\n",
    "# Write your code here \n",
    "    acc_num=int(input(\"Please enter your account number:\"))\n",
    "\n",
    "    while True:\n",
    "\n",
    "        if acc_num in cust_data:\n",
    "\n",
    "            break\n",
    "\n",
    "        else:\n",
    "\n",
    "            acc_num=int(input(\"Not found. Please enter your correct account number:\")) # Step 2: Print the welcome message to the user.\n",
    "\n",
    "    print(\"Welcome, \", cust_data[acc_num]['name'],\" !\\nEnter 1 to check your balance. \\nEnter 2 to withdraw an amount. \\nEnter 3 to deposit an amount\")\n",
    "\n",
    "    #Write your code here # Step 3: Asking the user\n",
    "\n",
    "    user_choice = input()\n",
    "\n",
    "    while user_choice not in ['1', '2', '3']:\n",
    "\n",
    "        print(\"Invalid input!\\nEnter 1 to check your balance. \\nEnter 2 to withdraw an amount. \\nEnter 3 to deposit an amount.\")\n",
    "\n",
    "        user_choice = input()\n",
    "\n",
    "    # Step 4:\n",
    "\n",
    "    # If 'user_choice -- 1' then display the account balance i.e. 'cust data[acc_num] {'amount']'\n",
    "\n",
    "    #Write your code here\n",
    "\n",
    "    if user_choice == '1':\n",
    "\n",
    "        print(cust_data[acc_num]['amount'])\n",
    "\n",
    "    #Else if user choice = 2 then subtract the withdrawal amount from the available balance.\n",
    "\n",
    "    elif user_choice == 2: \n",
    "        amm=int(input(\"Enter the amount to be withdrawn: \"))\n",
    "\n",
    "        if amm>cust_data[acc_num]['amount']:\n",
    "\n",
    "            print(\"Insufficient balance. \\nAvailable balance: \", cust_data[acc_num]['amount'])\n",
    "\n",
    "        else:\n",
    "\n",
    "            cust_data[acc_num]['amount']=cust_data[acc_num] ['amount']-amm \n",
    "            print(\"Withdrawal successful.\\nAvailable Balance: \", cust_data[acc_num] ['amount'])\n",
    "\n",
    "    # Else if 'user_choice -- 3 then add the deposit amount to the available balance. \n",
    "    elif user_choice == '3': \n",
    "        amm=int(input(\"Enter the amount to be deposited: \"))\n",
    "\n",
    "        cust_data[acc_num]['amount']=cust_data[acc_num]['amount']+amm \n",
    "        print(\"Deposit successful.\\nAvailable Balance:\", cust_data[acc_num] [ 'amount']) "
   ]
  },
  
